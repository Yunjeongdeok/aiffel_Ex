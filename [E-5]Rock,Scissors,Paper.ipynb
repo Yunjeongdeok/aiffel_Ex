{
 "cells": [
  {
   "cell_type": "code",
   "execution_count": 1,
   "id": "5a6c09ea",
   "metadata": {
    "scrolled": true
   },
   "outputs": [],
   "source": [
    "import tensorflow as tf\n",
    "import numpy as np\n",
    "import matplotlib.pyplot as plt\n",
    "from PIL import Image\n",
    "import glob\n",
    "import os\n",
    "import cv2\n",
    "\n",
    "import tensorflow as tf\n",
    "from tensorflow import keras"
   ]
  },
  {
   "cell_type": "markdown",
   "id": "f8386129",
   "metadata": {},
   "source": [
    "# train 28 X 28 사이즈로 변경"
   ]
  },
  {
   "cell_type": "markdown",
   "id": "7299996c",
   "metadata": {},
   "source": [
    "### 가위"
   ]
  },
  {
   "cell_type": "code",
   "execution_count": 2,
   "id": "6bc11c35",
   "metadata": {},
   "outputs": [
    {
     "name": "stdout",
     "output_type": "stream",
     "text": [
      "0  images to be resized.\n",
      "0  images resized.\n",
      "가위 이미지 resize 완료!\n"
     ]
    }
   ],
   "source": [
    "def scissor_resize(img_path):\n",
    "    img_path = os.getenv('HOME')+'scissor'\n",
    "    images=glob.glob(img_path + \"/*.jpg\")  \n",
    "    \n",
    "    print(len(images), \" images to be resized.\")\n",
    "\n",
    "    # 파일마다 모두 28x28 사이즈로 바꾸어 저장합니다.\n",
    "    target_size=(28,28)\n",
    "    for img in images:\n",
    "        old_img=Image.open(img)\n",
    "        new_img=old_img.resize(target_size,Image.ANTIALIAS)\n",
    "        new_img.save(img, \"JPEG\")\n",
    "    \n",
    "    print(len(images), \" images resized.\")\n",
    "\n",
    "# 가위 이미지가 저장된 디렉토리 아래의 모든 jpg 파일을 읽어들여서\n",
    "image_dir_path = os.getenv(\"HOME\") + \"/aiffel/Exploration/E-5_data/scissor\"\n",
    "scissor_resize(image_dir_path)\n",
    "\n",
    "print(\"가위 이미지 resize 완료!\")\n"
   ]
  },
  {
   "cell_type": "markdown",
   "id": "fdac0b7e",
   "metadata": {},
   "source": [
    "### 바위"
   ]
  },
  {
   "cell_type": "code",
   "execution_count": 3,
   "id": "0b6e349f",
   "metadata": {
    "scrolled": true
   },
   "outputs": [
    {
     "name": "stdout",
     "output_type": "stream",
     "text": [
      "바위의 개수는:  0\n",
      "resize한 이미지 개수:  0\n"
     ]
    }
   ],
   "source": [
    "def rock_resize(rock):\n",
    "    rock = os.getenv('HOME')+'rock'\n",
    "    images = glob.glob(rock + '/*.jpg')\n",
    "    print('바위의 개수는: ', len(images))\n",
    "    \n",
    "    # 28 X 28 사이즈로 바꾸기\n",
    "    target_size = (28,28)\n",
    "    for img in images:\n",
    "        origin_img = Image.open(img)\n",
    "        resize_img = origin_img.resize(target_size, Image.ANTIALIAS)\n",
    "        \n",
    "        resize_img.save(img, 'JPEG')\n",
    "    print('resize한 이미지 개수: ', len(images))\n",
    "    \n",
    "image_dir_path = os.getenv('HOME') + \"/aiffel/Exploration/E-5_data/rock\"\n",
    "rock_resize(image_dir_path)"
   ]
  },
  {
   "cell_type": "markdown",
   "id": "20bfa566",
   "metadata": {},
   "source": [
    "### 보자기"
   ]
  },
  {
   "cell_type": "code",
   "execution_count": 4,
   "id": "9d8822fc",
   "metadata": {},
   "outputs": [
    {
     "name": "stdout",
     "output_type": "stream",
     "text": [
      "이미지 개수:  1318\n",
      "resize한 이미지 개수:  1318\n"
     ]
    }
   ],
   "source": [
    "def paper_resize(paper):\n",
    "    images = glob.glob(paper +'/*.jpg')\n",
    "    print('이미지 개수: ', len(images))\n",
    "    \n",
    "    # 28 X 28 사이즈로 바꾸기\n",
    "    target_size = (28,28)\n",
    "    for img in images:\n",
    "        origin_img = Image.open(img)\n",
    "        resize_img = origin_img.resize(target_size, Image.ANTIALIAS)\n",
    "        \n",
    "        resize_img.save(img,\"JPEG\")\n",
    "    print('resize한 이미지 개수: ', len(images))\n",
    "    \n",
    "image_dir_path = os.getenv('HOME') + '/aiffel/Exploration/E-5_data/paper'\n",
    "paper_resize(image_dir_path)"
   ]
  },
  {
   "cell_type": "markdown",
   "id": "156022df",
   "metadata": {},
   "source": [
    "# test 28 X 28 사이즈로 변경"
   ]
  },
  {
   "cell_type": "markdown",
   "id": "8d9356bc",
   "metadata": {},
   "source": [
    "### test 가위"
   ]
  },
  {
   "cell_type": "code",
   "execution_count": 5,
   "id": "1e34dd66",
   "metadata": {},
   "outputs": [
    {
     "name": "stdout",
     "output_type": "stream",
     "text": [
      "0  images to be resized.\n",
      "0  images resized.\n"
     ]
    }
   ],
   "source": [
    "def test_scissor(scissor):\n",
    "    images = glob.glob(scissor +'/*.jpg')\n",
    "    print('이미지 개수: ', len(images))\n",
    "    \n",
    "    # 28 X 28 사이즈로 바꾸기\n",
    "    target_size = (28,28)\n",
    "    for img in images:\n",
    "        origin_img = Image.open(img)\n",
    "        resize_img = origin_img.resize(target_size, Image.ANTIALIAS)\n",
    "        \n",
    "        resize_img.save(img,\"JPEG\")\n",
    "    print('resize한 이미지 개수: ', len(images))\n",
    "    \n",
    "image_dir_path = os.getenv('HOME') + '/aiffel/Exploration/E-5_data/test_scissor'\n",
    "scissor_resize(image_dir_path)"
   ]
  },
  {
   "cell_type": "markdown",
   "id": "5e465f1e",
   "metadata": {},
   "source": [
    "### test 바위"
   ]
  },
  {
   "cell_type": "code",
   "execution_count": 6,
   "id": "c8e5768d",
   "metadata": {},
   "outputs": [
    {
     "name": "stdout",
     "output_type": "stream",
     "text": [
      "이미지 개수:  120\n",
      "resize한 이미지 개수:  120\n"
     ]
    }
   ],
   "source": [
    "def test_rock(rock):\n",
    "    images = glob.glob(rock +'/*.jpg')\n",
    "    print('이미지 개수: ', len(images))\n",
    "    \n",
    "    # 28 X 28 사이즈로 바꾸기\n",
    "    target_size = (28,28)\n",
    "    for img in images:\n",
    "        origin_img = Image.open(img)\n",
    "        resize_img = origin_img.resize(target_size, Image.ANTIALIAS)\n",
    "        \n",
    "        resize_img.save(img,\"JPEG\")\n",
    "    print('resize한 이미지 개수: ', len(images))\n",
    "    \n",
    "image_dir_path = os.getenv('HOME') + '/aiffel/Exploration/E-5_data/test_rock'\n",
    "test_rock(image_dir_path)"
   ]
  },
  {
   "cell_type": "markdown",
   "id": "84dce7da",
   "metadata": {},
   "source": [
    "### test 보자기"
   ]
  },
  {
   "cell_type": "code",
   "execution_count": 7,
   "id": "1692ae76",
   "metadata": {},
   "outputs": [
    {
     "name": "stdout",
     "output_type": "stream",
     "text": [
      "이미지 개수:  120\n",
      "resize한 이미지 개수:  120\n"
     ]
    }
   ],
   "source": [
    "def test_paper(paper):\n",
    "    images = glob.glob(paper + '/*jpg')\n",
    "    print('이미지 개수: ', len(images))\n",
    "    \n",
    "    target = (28,28)\n",
    "    for img in images:\n",
    "        origin_img = Image.open(img)\n",
    "        resize_img = origin_img.resize(target, Image.ANTIALIAS)\n",
    "        \n",
    "        resize_img.save(img, 'JPEG')\n",
    "    print('resize한 이미지 개수: ', len(images))\n",
    "    \n",
    "    \n",
    "test_paper_path = os.getenv('HOME') + '/aiffel/Exploration/E-5_data/test_paper'\n",
    "test_paper(test_paper_path)"
   ]
  },
  {
   "cell_type": "markdown",
   "id": "2f1cb05b",
   "metadata": {},
   "source": [
    "## train 클래스 만들기"
   ]
  },
  {
   "cell_type": "code",
   "execution_count": 8,
   "id": "a4b76d70",
   "metadata": {
    "scrolled": true
   },
   "outputs": [
    {
     "name": "stdout",
     "output_type": "stream",
     "text": [
      "학습데이터(x_train)의 이미지 개수는 4001 입니다.\n",
      "x_train shape: (4001, 28, 28, 3)\n",
      "y_train shape: (4001,)\n"
     ]
    }
   ],
   "source": [
    "import numpy as np\n",
    "\n",
    "def load_data(img_path, number_of_data=4001):  # 가위바위보 이미지 개수 총합에 주의하세요.\n",
    "    # 가위 : 0, 바위 : 1, 보 : 2\n",
    "    img_size=28\n",
    "    color=3\n",
    "    #이미지 데이터와 라벨(가위 : 0, 바위 : 1, 보 : 2) 데이터를 담을 행렬(matrix) 영역을 생성합니다.\n",
    "    imgs=np.zeros(number_of_data * img_size * img_size * color, dtype=np.int32).reshape(number_of_data,img_size,img_size,color)\n",
    "    labels=np.zeros(number_of_data,dtype=np.int32)\n",
    "\n",
    "    idx=0\n",
    "    for file in glob.iglob(img_path+'/scissor/*.jpg'):\n",
    "        img = np.array(Image.open(file),dtype=np.int32)\n",
    "        imgs[idx,:,:,:]=img    # 데이터 영역에 이미지 행렬을 복사\n",
    "        labels[idx]=0   # 가위 : 0\n",
    "        idx=idx+1\n",
    "\n",
    "    for file in glob.iglob(img_path+'/rock/*.jpg'):\n",
    "        img = np.array(Image.open(file),dtype=np.int32)\n",
    "        imgs[idx,:,:,:]=img    # 데이터 영역에 이미지 행렬을 복사\n",
    "        labels[idx]=1   # 바위 : 1\n",
    "        idx=idx+1  \n",
    "    \n",
    "    for file in glob.iglob(img_path+'/paper/*.jpg'):\n",
    "        img = np.array(Image.open(file),dtype=np.int32)\n",
    "        imgs[idx,:,:,:]=img    # 데이터 영역에 이미지 행렬을 복사\n",
    "        labels[idx]=2   # 보 : 2\n",
    "        idx=idx+1\n",
    "        \n",
    "    print(\"학습데이터(x_train)의 이미지 개수는\", idx,\"입니다.\")\n",
    "    return imgs, labels\n",
    "\n",
    "image_dir_path = os.getenv(\"HOME\") + \"/aiffel/Exploration/E-5_data/\"\n",
    "(x_train, y_train)=load_data(image_dir_path)\n",
    "x_train_norm = x_train/255.0 # 입력은 0~1 사이의 값으로 정규화\n",
    "\n",
    "print(\"x_train shape: {}\".format(x_train.shape))\n",
    "print(\"y_train shape: {}\".format(y_train.shape))"
   ]
  },
  {
   "cell_type": "code",
   "execution_count": 9,
   "id": "2b153c88",
   "metadata": {},
   "outputs": [
    {
     "name": "stdout",
     "output_type": "stream",
     "text": [
      "최소값: 0  최대값: 255\n",
      "최소값: 0.0  최대값: 1.0\n"
     ]
    }
   ],
   "source": [
    "print('최소값:',np.min(x_train), ' 최대값:',np.max(x_train))\n",
    "print('최소값:',np.min(x_train_norm), ' 최대값:',np.max(x_train_norm))"
   ]
  },
  {
   "cell_type": "markdown",
   "id": "46ff32f1",
   "metadata": {},
   "source": [
    "## test 클래스 만들기"
   ]
  },
  {
   "cell_type": "code",
   "execution_count": 10,
   "id": "5206bca9",
   "metadata": {
    "scrolled": true
   },
   "outputs": [
    {
     "name": "stdout",
     "output_type": "stream",
     "text": [
      "학습데이터(x_test)의 이미지 개수는 360 입니다.\n",
      "x_test shape: (360, 28, 28, 3)\n",
      "y_test shape: (360,)\n"
     ]
    }
   ],
   "source": [
    "import numpy as np\n",
    "\n",
    "def test_load_data(img_path, number_of_data=360):  # 가위바위보 이미지 개수 총합에 주의하세요.\n",
    "    # 가위 : 0, 바위 : 1, 보 : 2\n",
    "    img_size=28\n",
    "    color=3\n",
    "    #이미지 데이터와 라벨(가위 : 0, 바위 : 1, 보 : 2) 데이터를 담을 행렬(matrix) 영역을 생성합니다.\n",
    "    imgs=np.zeros(number_of_data*img_size*img_size*color,dtype=np.int32).reshape(number_of_data,img_size,img_size,color)\n",
    "    labels=np.zeros(number_of_data,dtype=np.int32)\n",
    "\n",
    "    idx=0\n",
    "    for file in glob.iglob(img_path+'/test_scissor/*.jpg'):\n",
    "        img = np.array(Image.open(file),dtype=np.int32)\n",
    "        imgs[idx,:,:,:]=img    # 데이터 영역에 이미지 행렬을 복사\n",
    "        labels[idx]=0   # 가위 : 0\n",
    "        idx=idx+1\n",
    "\n",
    "    for file in glob.iglob(img_path+'/test_rock/*.jpg'):\n",
    "        img = np.array(Image.open(file),dtype=np.int32)\n",
    "        imgs[idx,:,:,:]=img    # 데이터 영역에 이미지 행렬을 복사\n",
    "        labels[idx]=1   # 바위 : 1\n",
    "        idx=idx+1  \n",
    "    \n",
    "    for file in glob.iglob(img_path+'/test_paper/*.jpg'):\n",
    "        img = np.array(Image.open(file),dtype=np.int32)\n",
    "        imgs[idx,:,:,:]=img    # 데이터 영역에 이미지 행렬을 복사\n",
    "        labels[idx]=2   # 보 : 2\n",
    "        idx=idx+1\n",
    "        \n",
    "    print(\"학습데이터(x_test)의 이미지 개수는\", idx,\"입니다.\")\n",
    "    return imgs, labels\n",
    "\n",
    "image_dir_path = os.getenv(\"HOME\") + \"/aiffel/Exploration/E-5_data/\"\n",
    "(x_test, y_test)= test_load_data(image_dir_path)\n",
    "x_test_norm = x_test/255.0   # 입력은 0~1 사이의 값으로 정규화\n",
    "\n",
    "\n",
    "print(\"x_test shape: {}\".format(x_test.shape))\n",
    "print(\"y_test shape: {}\".format(y_test.shape))"
   ]
  },
  {
   "cell_type": "code",
   "execution_count": 36,
   "id": "cc56438c",
   "metadata": {
    "scrolled": true
   },
   "outputs": [
    {
     "name": "stdout",
     "output_type": "stream",
     "text": [
      "최소값: 0  최대값: 255\n",
      "최소값: 0.0  최대값: 1.0\n"
     ]
    }
   ],
   "source": [
    "print('최소값:',np.min(x_test), ' 최대값:',np.max(x_test))\n",
    "print('최소값:',np.min(x_test_norm), ' 최대값:',np.max(x_test_norm))"
   ]
  },
  {
   "cell_type": "markdown",
   "id": "a9930938",
   "metadata": {},
   "source": [
    "#### 실패 사례 y_test_norm, y_train_norm도 01~1로 정규화를 시키니까 \n",
    "Input 0 of layer sequential is incompatible with the layer: expected axis -1 of input shape to have value 1 but received input with shape (None, 28, 28, 3)라고 오류가 떴다."
   ]
  },
  {
   "cell_type": "markdown",
   "id": "8aed3c5f",
   "metadata": {},
   "source": [
    "## 이미지 보기"
   ]
  },
  {
   "cell_type": "code",
   "execution_count": 12,
   "id": "14f9e5de",
   "metadata": {},
   "outputs": [
    {
     "name": "stdout",
     "output_type": "stream",
     "text": [
      "라벨:  2\n",
      "x_train 배열\n",
      "(4001, 28, 28, 3)\n",
      "y_train 배열\n",
      "(4001,)\n"
     ]
    },
    {
     "data": {
      "image/png": "[encoded data removed]",
      "text/plain": [
       "<Figure size 432x288 with 1 Axes>"
      ]
     },
     "metadata": {
      "needs_background": "light"
     },
     "output_type": "display_data"
    }
   ],
   "source": [
    "plt.imshow(x_train[4000])\n",
    "print('라벨: ', y_train[4000])\n",
    "\n",
    "print('x_train 배열', x_train.shape, sep='\\n')\n",
    "print('y_train 배열',y_train.shape, sep='\\n')"
   ]
  },
  {
   "cell_type": "code",
   "execution_count": 13,
   "id": "30c46250",
   "metadata": {},
   "outputs": [
    {
     "name": "stdout",
     "output_type": "stream",
     "text": [
      "라벨:  2\n",
      "x_test 배열\n",
      "(360, 28, 28, 3)\n",
      "y_test 배열\n",
      "(360,)\n"
     ]
    },
    {
     "data": {
      "image/png": "[encoded data removed]",
      "text/plain": [
       "<Figure size 432x288 with 1 Axes>"
      ]
     },
     "metadata": {
      "needs_background": "light"
     },
     "output_type": "display_data"
    }
   ],
   "source": [
    "plt.imshow(x_test[359])\n",
    "print('라벨: ', y_test[359])\n",
    "\n",
    "print('x_test 배열', x_test.shape, sep='\\n')\n",
    "print('y_test 배열',y_test.shape, sep='\\n')\n",
    "\n",
    "\n",
    "# 실패 사례: 흑백으로 변환해볼려했으나 실패했다(정확도가 높아지지않을까 싶었다)\n",
    "# gray = cv2.cvtColor(x_test[359], cv2.COLOR_GRB_RGB2GRAY)\n",
    "#module 'cv2.cv2' has no attribute 'COLOR_GRB_RGB2GRAY'가 나타났다.\n",
    "\n",
    "# print(x_test[359].shape) 28 * 28 * 3이다."
   ]
  },
  {
   "cell_type": "markdown",
   "id": "a96026f7",
   "metadata": {},
   "source": [
    "## 정확도 테스트 하기"
   ]
  },
  {
   "cell_type": "code",
   "execution_count": 39,
   "id": "e0d1c422",
   "metadata": {},
   "outputs": [
    {
     "name": "stdout",
     "output_type": "stream",
     "text": [
      "Model에 추가된 Layer 개수:  7\n"
     ]
    }
   ],
   "source": [
    "model=keras.models.Sequential()\n",
    "model.add(keras.layers.Conv2D(16, (3,3), activation='relu', input_shape=(28,28,3)))\n",
    "model.add(keras.layers.MaxPool2D(2,2))\n",
    "model.add(keras.layers.Conv2D(32, (3,3), activation='relu'))\n",
    "model.add(keras.layers.MaxPooling2D((2,2)))\n",
    "model.add(keras.layers.Flatten())\n",
    "model.add(keras.layers.Dense(32, activation='relu'))\n",
    "model.add(keras.layers.Dense(10, activation='softmax'))\n",
    "\n",
    "print('Model에 추가된 Layer 개수: ', len(model.layers))"
   ]
  },
  {
   "cell_type": "code",
   "execution_count": 38,
   "id": "ffe6e397",
   "metadata": {
    "scrolled": true
   },
   "outputs": [
    {
     "name": "stdout",
     "output_type": "stream",
     "text": [
      "Model: \"sequential_1\"\n",
      "_________________________________________________________________\n",
      "Layer (type)                 Output Shape              Param #   \n",
      "=================================================================\n",
      "conv2d_2 (Conv2D)            (None, 26, 26, 16)        160       \n",
      "_________________________________________________________________\n",
      "max_pooling2d_2 (MaxPooling2 (None, 13, 13, 16)        0         \n",
      "_________________________________________________________________\n",
      "conv2d_3 (Conv2D)            (None, 11, 11, 32)        4640      \n",
      "_________________________________________________________________\n",
      "max_pooling2d_3 (MaxPooling2 (None, 5, 5, 32)          0         \n",
      "_________________________________________________________________\n",
      "flatten_1 (Flatten)          (None, 800)               0         \n",
      "_________________________________________________________________\n",
      "dense_2 (Dense)              (None, 32)                25632     \n",
      "_________________________________________________________________\n",
      "dense_3 (Dense)              (None, 10)                330       \n",
      "=================================================================\n",
      "Total params: 30,762\n",
      "Trainable params: 30,762\n",
      "Non-trainable params: 0\n",
      "_________________________________________________________________\n"
     ]
    }
   ],
   "source": [
    "model.summary()"
   ]
  },
  {
   "cell_type": "code",
   "execution_count": 41,
   "id": "bec6262c",
   "metadata": {},
   "outputs": [
    {
     "name": "stdout",
     "output_type": "stream",
     "text": [
      "Before Reshape - x_train_norm shape: (4001, 28, 28, 3)\n",
      "Before Reshape - x_test_norm shape: (360, 28, 28, 3)\n",
      "After Reshape - x_train_reshaped shape: (4001, 28, 28, 3)\n",
      "After Reshape - x_test_reshaped shape: (360, 28, 28, 3)\n"
     ]
    }
   ],
   "source": [
    "print(\"Before Reshape - x_train_norm shape: {}\".format(x_train_norm.shape))\n",
    "print(\"Before Reshape - x_test_norm shape: {}\".format(x_test_norm.shape))\n",
    "\n",
    "x_train_reshaped=x_train_norm.reshape( -1, 28, 28, 3)  # 데이터갯수에 -1을 쓰면 reshape시 자동계산됩니다.\n",
    "x_test_reshaped=x_test_norm.reshape( -1, 28, 28, 3)\n",
    "\n",
    "print(\"After Reshape - x_train_reshaped shape: {}\".format(x_train_reshaped.shape))\n",
    "print(\"After Reshape - x_test_reshaped shape: {}\".format(x_test_reshaped.shape))"
   ]
  },
  {
   "cell_type": "code",
   "execution_count": 43,
   "id": "58e0c5bc",
   "metadata": {},
   "outputs": [
    {
     "name": "stdout",
     "output_type": "stream",
     "text": [
      "Epoch 1/5\n",
      "126/126 [==============================] - 1s 3ms/step - loss: 0.0327 - accuracy: 0.9928\n",
      "Epoch 2/5\n",
      "126/126 [==============================] - 0s 3ms/step - loss: 0.0384 - accuracy: 0.9880\n",
      "Epoch 3/5\n",
      "126/126 [==============================] - 0s 3ms/step - loss: 0.0153 - accuracy: 0.9970\n",
      "Epoch 4/5\n",
      "126/126 [==============================] - 0s 3ms/step - loss: 0.0177 - accuracy: 0.9953\n",
      "Epoch 5/5\n",
      "126/126 [==============================] - 0s 3ms/step - loss: 0.0224 - accuracy: 0.9948\n"
     ]
    },
    {
     "data": {
      "text/plain": [
       "<keras.callbacks.History at 0x7fd3182a2730>"
      ]
     },
     "execution_count": 43,
     "metadata": {},
     "output_type": "execute_result"
    }
   ],
   "source": [
    "model.compile(optimizer='adam',\n",
    "             loss='sparse_categorical_crossentropy',\n",
    "             metrics=['accuracy'])\n",
    "\n",
    "model.fit(x_train_reshaped, y_train, epochs=5)"
   ]
  },
  {
   "cell_type": "markdown",
   "id": "14a5d541",
   "metadata": {},
   "source": [
    "# 결과"
   ]
  },
  {
   "cell_type": "code",
   "execution_count": 44,
   "id": "ebd0fb90",
   "metadata": {},
   "outputs": [
    {
     "name": "stdout",
     "output_type": "stream",
     "text": [
      "12/12 - 0s - loss: 5.9706 - accuracy: 0.5833\n",
      "test_loss: 5.970602035522461 \n",
      "test_accuracy: 0.5833333134651184\n"
     ]
    }
   ],
   "source": [
    "test_loss, test_accuracy = model.evaluate(x_test_reshaped,y_test, verbose=2)\n",
    "print(\"test_loss: {} \".format(test_loss))\n",
    "print(\"test_accuracy: {}\".format(test_accuracy))"
   ]
  },
  {
   "cell_type": "code",
   "execution_count": 45,
   "id": "00f63765",
   "metadata": {},
   "outputs": [
    {
     "name": "stdout",
     "output_type": "stream",
     "text": [
      "model.predict() 결과 :  [9.5800960e-01 4.1990444e-02 1.4822102e-15 2.5409603e-18 4.8556763e-17\n",
      " 4.6826311e-15 2.0924812e-19 3.6518132e-19 6.3530935e-20 3.4987236e-15]\n",
      "model이 추론한 가장 가능성이 높은 결과 :  0\n",
      "실제 데이터의 라벨 :  0\n"
     ]
    }
   ],
   "source": [
    "predicted_result = model.predict(x_test_reshaped)  # model이 추론한 확률값. \n",
    "predicted_labels = np.argmax(predicted_result, axis=1)\n",
    "\n",
    "idx=0  #1번째 x_test를 살펴보자. \n",
    "print('model.predict() 결과 : ', predicted_result[idx])\n",
    "print('model이 추론한 가장 가능성이 높은 결과 : ', predicted_labels[idx])\n",
    "print('실제 데이터의 라벨 : ', y_test[idx])"
   ]
  },
  {
   "cell_type": "code",
   "execution_count": 46,
   "id": "52ebde1e",
   "metadata": {},
   "outputs": [
    {
     "data": {
      "image/png": "[encoded data removed]",
      "text/plain": [
       "<Figure size 432x288 with 1 Axes>"
      ]
     },
     "metadata": {
      "needs_background": "light"
     },
     "output_type": "display_data"
    }
   ],
   "source": [
    "plt.imshow(x_test[idx],cmap=plt.cm.binary)\n",
    "plt.show()"
   ]
  },
  {
   "cell_type": "code",
   "execution_count": 47,
   "id": "fefef3b4",
   "metadata": {
    "scrolled": true
   },
   "outputs": [
    {
     "name": "stdout",
     "output_type": "stream",
     "text": [
      "예측확률분포: [7.0395037e-03 9.8680091e-01 6.1596553e-03 3.4687247e-12 6.3095240e-14\n",
      " 1.4904977e-12 1.7242314e-13 5.4720912e-15 2.8847037e-13 3.7203903e-12]\n",
      "라벨: 2, 예측결과:1\n"
     ]
    },
    {
     "data": {
      "image/png": "[encoded data removed]",
      "text/plain": [
       "<Figure size 432x288 with 1 Axes>"
      ]
     },
     "metadata": {
      "needs_background": "light"
     },
     "output_type": "display_data"
    },
    {
     "name": "stdout",
     "output_type": "stream",
     "text": [
      "예측확률분포: [7.7840858e-03 9.9221593e-01 4.6838892e-14 1.0590274e-17 6.0918874e-17\n",
      " 4.7317022e-15 4.4195335e-19 4.5993227e-19 4.8660140e-19 4.5207089e-15]\n",
      "라벨: 2, 예측결과:1\n"
     ]
    },
    {
     "data": {
      "image/png": "[encoded data removed]",
      "text/plain": [
       "<Figure size 432x288 with 1 Axes>"
      ]
     },
     "metadata": {
      "needs_background": "light"
     },
     "output_type": "display_data"
    },
    {
     "name": "stdout",
     "output_type": "stream",
     "text": [
      "예측확률분포: [6.8372440e-01 3.1624371e-01 3.1830386e-05 3.8619823e-14 1.9412297e-15\n",
      " 1.9544808e-12 5.4287379e-15 4.1303757e-15 9.1462474e-15 3.6957883e-13]\n",
      "라벨: 2, 예측결과:0\n"
     ]
    },
    {
     "data": {
      "image/png": "[encoded data removed]",
      "text/plain": [
       "<Figure size 432x288 with 1 Axes>"
      ]
     },
     "metadata": {
      "needs_background": "light"
     },
     "output_type": "display_data"
    },
    {
     "name": "stdout",
     "output_type": "stream",
     "text": [
      "예측확률분포: [9.0171897e-01 9.8280966e-02 1.2932943e-08 6.0218660e-15 1.8152035e-15\n",
      " 3.5671745e-13 1.2634995e-15 5.9969247e-15 8.3291090e-16 1.9999962e-13]\n",
      "라벨: 2, 예측결과:0\n"
     ]
    },
    {
     "data": {
      "image/png": "[encoded data removed]",
      "text/plain": [
       "<Figure size 432x288 with 1 Axes>"
      ]
     },
     "metadata": {
      "needs_background": "light"
     },
     "output_type": "display_data"
    },
    {
     "name": "stdout",
     "output_type": "stream",
     "text": [
      "예측확률분포: [5.1051915e-01 4.8948085e-01 1.0730052e-11 2.2755823e-17 4.2379080e-17\n",
      " 1.4678447e-14 3.7298657e-18 1.6792860e-17 2.2057118e-18 6.6099902e-15]\n",
      "라벨: 2, 예측결과:0\n"
     ]
    },
    {
     "data": {
      "image/png": "[encoded data removed]",
      "text/plain": [
       "<Figure size 432x288 with 1 Axes>"
      ]
     },
     "metadata": {
      "needs_background": "light"
     },
     "output_type": "display_data"
    }
   ],
   "source": [
    "import random\n",
    "wrong_predict_list=[]\n",
    "for i, _ in enumerate(predicted_labels):\n",
    "    # i번째 test_labels과 y_test이 다른 경우만 모아 봅시다. \n",
    "    if predicted_labels[i] != y_test[i]:\n",
    "        wrong_predict_list.append(i)\n",
    "\n",
    "# wrong_predict_list 에서 랜덤하게 5개만 뽑아봅시다.\n",
    "samples = random.choices(population=wrong_predict_list, k=5)\n",
    "\n",
    "for n in samples:\n",
    "    print(\"예측확률분포: \" + str(predicted_result[n]))\n",
    "    print(\"라벨: \" + str(y_test[n]) + \", 예측결과:\" + str(predicted_labels[n]))\n",
    "    plt.imshow(x_test[n], cmap=plt.cm.binary)\n",
    "    plt.show()"
   ]
  },
  {
   "cell_type": "markdown",
   "id": "0b1339dc",
   "metadata": {},
   "source": [
    "# 실패 사례 모음\n",
    "\n",
    " 1. 이미지를 흑백으로 변환해볼려했으나 실패했다(정확도가 높아지지않을까 싶었다)\n",
    "     - gray = cv2.cvtColor(x_test[359], cv2.COLOR_GRB_RGB2GRAY)\n",
    "     - #module 'cv2.cv2' has no attribute 'COLOR_GRB_RGB2GRAY'가 나타났다.\n",
    "     - print(x_test[359].shape) => 28 * 28 * 3이다."
   ]
  }
 ],
 "metadata": {
  "kernelspec": {
   "display_name": "Python 3 (ipykernel)",
   "language": "python",
   "name": "python3"
  },
  "language_info": {
   "codemirror_mode": {
    "name": "ipython",
    "version": 3
   },
   "file_extension": ".py",
   "mimetype": "text/x-python",
   "name": "python",
   "nbconvert_exporter": "python",
   "pygments_lexer": "ipython3",
   "version": "3.9.7"
  }
 },
 "nbformat": 4,
 "nbformat_minor": 5
}
